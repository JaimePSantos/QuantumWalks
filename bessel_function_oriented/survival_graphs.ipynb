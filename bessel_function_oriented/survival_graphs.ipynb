{
 "cells": [
  {
   "cell_type": "code",
   "execution_count": 1,
   "id": "b03fce13",
   "metadata": {},
   "outputs": [],
   "source": [
    "import numpy as np\n",
    "from scipy.linalg import expm\n",
    "import matplotlib.pyplot as plt"
   ]
  },
  {
   "cell_type": "code",
   "execution_count": 2,
   "id": "70a6cfb8",
   "metadata": {},
   "outputs": [],
   "source": [
    "def stream_path(n,alpha):\n",
    "    B = np.matrix(np.zeros((n,n), dtype='complex'))\n",
    "    for x in range(n-1):\n",
    "        B[x,x+1] = np.exp(1j*alpha)\n",
    "    \n",
    "    return B + B.H\n",
    "\n",
    "def evolution(H,t,initial):\n",
    "    U = expm(1j*H*t)\n",
    "    initial = np.array(U@initial)\n",
    "    \n",
    "    return np.abs(initial)**2"
   ]
  },
  {
   "cell_type": "code",
   "execution_count": 48,
   "id": "d88bf66f",
   "metadata": {},
   "outputs": [
    {
     "data": {
      "image/png": "[encoded data removed]",
      "text/plain": [
       "<Figure size 432x288 with 1 Axes>"
      ]
     },
     "metadata": {
      "needs_background": "light"
     },
     "output_type": "display_data"
    }
   ],
   "source": [
    "P = []\n",
    "a = [0, np.pi/2, np.pi/3]\n",
    "for alpha in a:\n",
    "    n = 500\n",
    "    alpha = (np.pi)\n",
    "    H = stream_path(n,alpha)\n",
    "\n",
    "    k = 0\n",
    "    initial = np.zeros((n,1))\n",
    "\n",
    "\n",
    "\n",
    "    ti,tf,nt = 0, 10, 50\n",
    "    time = np.linspace(ti,tf,nt)\n",
    "\n",
    "\n",
    "    p=[]\n",
    "    for t in time:\n",
    "        k0=n//2-k-1\n",
    "        k1=n//2+k\n",
    "\n",
    "        initial[k0] = 1/np.sqrt(2)\n",
    "        initial[k1] = 1/np.sqrt(2)\n",
    "\n",
    "        psi = evolution(H, t, initial)\n",
    "        p.append(np.sum(psi[k0:(k1+1)]))\n",
    "\n",
    "    P.append(p)\n",
    "    \n"
   ]
  },
  {
   "cell_type": "code",
   "execution_count": 52,
   "id": "ebb0d85d",
   "metadata": {},
   "outputs": [
    {
     "data": {
      "image/png": "[encoded data removed]",
      "text/plain": [
       "<Figure size 432x288 with 1 Axes>"
      ]
     },
     "metadata": {
      "needs_background": "light"
     },
     "output_type": "display_data"
    }
   ],
   "source": [
    "plt.plot([time,time],[P[0],P[1]])\n",
    "plt.yscale('log')\n",
    "plt.xscale('log')\n",
    "plt.xlabel('t')\n",
    "plt.ylabel('$P_m$')\n",
    "\n",
    "plt.show()"
   ]
  },
  {
   "cell_type": "code",
   "execution_count": 53,
   "id": "800ab9c3",
   "metadata": {},
   "outputs": [
    {
     "data": {
      "text/plain": [
       "[0.9999999999999998,\n",
       " 0.9592080582231177,\n",
       " 0.8466562240109622,\n",
       " 0.6885540130592461,\n",
       " 0.5189784437403252,\n",
       " 0.36936542479694673,\n",
       " 0.2598894885723511,\n",
       " 0.1956291415586177,\n",
       " 0.16832946499853496,\n",
       " 0.16233367214432745,\n",
       " 0.16181917803654733,\n",
       " 0.15637594337946475,\n",
       " 0.14310533415115445,\n",
       " 0.12515859749577052,\n",
       " 0.1081388436378089,\n",
       " 0.0964273107137974,\n",
       " 0.09110630569871778,\n",
       " 0.0900734036565553,\n",
       " 0.08978513047071196,\n",
       " 0.08739336069815568,\n",
       " 0.08208961254159132,\n",
       " 0.07510493555591694,\n",
       " 0.0686139061356057,\n",
       " 0.0643255903580922,\n",
       " 0.06257869331624173,\n",
       " 0.06235240894706877,\n",
       " 0.06204066779419127,\n",
       " 0.06044123265547964,\n",
       " 0.05737300216243478,\n",
       " 0.053625940728194044,\n",
       " 0.05036354049155971,\n",
       " 0.04839092943023954,\n",
       " 0.04772466590655389,\n",
       " 0.04767360224400703,\n",
       " 0.04732203379322703,\n",
       " 0.0460878925232583,\n",
       " 0.04402304875034993,\n",
       " 0.041709378088838234,\n",
       " 0.03985505092797516,\n",
       " 0.038859126124586,\n",
       " 0.03860335931776866,\n",
       " 0.03857094078969972,\n",
       " 0.03819008958382811,\n",
       " 0.0371778948077805,\n",
       " 0.035680727663392434,\n",
       " 0.034146458070122586,\n",
       " 0.03302832517252438,\n",
       " 0.03251141061568982,\n",
       " 0.032422834441242554,\n",
       " 0.03236390498518897]"
      ]
     },
     "execution_count": 53,
     "metadata": {},
     "output_type": "execute_result"
    }
   ],
   "source": [
    "P[0]"
   ]
  },
  {
   "cell_type": "code",
   "execution_count": 54,
   "id": "09c339a2",
   "metadata": {},
   "outputs": [
    {
     "data": {
      "text/plain": [
       "[0.9999999999999998,\n",
       " 0.9592080582231177,\n",
       " 0.8466562240109622,\n",
       " 0.6885540130592461,\n",
       " 0.5189784437403252,\n",
       " 0.36936542479694673,\n",
       " 0.2598894885723511,\n",
       " 0.1956291415586177,\n",
       " 0.16832946499853496,\n",
       " 0.16233367214432745,\n",
       " 0.16181917803654733,\n",
       " 0.15637594337946475,\n",
       " 0.14310533415115445,\n",
       " 0.12515859749577052,\n",
       " 0.1081388436378089,\n",
       " 0.0964273107137974,\n",
       " 0.09110630569871778,\n",
       " 0.0900734036565553,\n",
       " 0.08978513047071196,\n",
       " 0.08739336069815568,\n",
       " 0.08208961254159132,\n",
       " 0.07510493555591694,\n",
       " 0.0686139061356057,\n",
       " 0.0643255903580922,\n",
       " 0.06257869331624173,\n",
       " 0.06235240894706877,\n",
       " 0.06204066779419127,\n",
       " 0.06044123265547964,\n",
       " 0.05737300216243478,\n",
       " 0.053625940728194044,\n",
       " 0.05036354049155971,\n",
       " 0.04839092943023954,\n",
       " 0.04772466590655389,\n",
       " 0.04767360224400703,\n",
       " 0.04732203379322703,\n",
       " 0.0460878925232583,\n",
       " 0.04402304875034993,\n",
       " 0.041709378088838234,\n",
       " 0.03985505092797516,\n",
       " 0.038859126124586,\n",
       " 0.03860335931776866,\n",
       " 0.03857094078969972,\n",
       " 0.03819008958382811,\n",
       " 0.0371778948077805,\n",
       " 0.035680727663392434,\n",
       " 0.034146458070122586,\n",
       " 0.03302832517252438,\n",
       " 0.03251141061568982,\n",
       " 0.032422834441242554,\n",
       " 0.03236390498518897]"
      ]
     },
     "execution_count": 54,
     "metadata": {},
     "output_type": "execute_result"
    }
   ],
   "source": [
    "P[1]"
   ]
  },
  {
   "cell_type": "code",
   "execution_count": null,
   "id": "cb4e466d",
   "metadata": {},
   "outputs": [],
   "source": []
  }
 ],
 "metadata": {
  "kernelspec": {
   "display_name": "Python 3 (ipykernel)",
   "language": "python",
   "name": "python3"
  },
  "language_info": {
   "codemirror_mode": {
    "name": "ipython",
    "version": 3
   },
   "file_extension": ".py",
   "mimetype": "text/x-python",
   "name": "python",
   "nbconvert_exporter": "python",
   "pygments_lexer": "ipython3",
   "version": "3.9.8"
  }
 },
 "nbformat": 4,
 "nbformat_minor": 5
}
