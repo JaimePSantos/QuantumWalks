{
 "cells": [
  {
   "cell_type": "code",
   "execution_count": 1,
   "id": "32d98cc9",
   "metadata": {},
   "outputs": [],
   "source": [
    "import numpy as np\n",
    "import matplotlib.pyplot as plt\n",
    "import networkx as nx"
   ]
  },
  {
   "cell_type": "code",
   "execution_count": 127,
   "id": "fc571ee6",
   "metadata": {},
   "outputs": [],
   "source": [
    "def coin_op(NW, NC):\n",
    "    II = np.eye(NW,dtype='complex')\n",
    "    C  = 2*np.ones((NC, NC))/NC - np.eye(NC)\n",
    "    \n",
    "    return np.kron(II,C)\n",
    "\n",
    "def shift_op_cycle(NW,NC):\n",
    "    S = np.zeros([NC*NW,NC*NW],dtype='complex')\n",
    "    \n",
    "#     aux_d = [0]\n",
    "#     for y in range(NC-2):\n",
    "#         aux_d.append((y+1))\n",
    "#         aux_d.append(-(y+1))\n",
    "    \n",
    "    aux_d = np.arange(-(NC-1)/2,(NC-1)/2+1,dtype='int')\n",
    "    \n",
    "    for d in range(NC):\n",
    "        coin_aux = np.zeros([NC,NC],dtype='complex')\n",
    "        coin_aux[d,d] = 1\n",
    "        \n",
    "        shift_aux = np.zeros([NW,NW],dtype='complex')\n",
    "        for x in range(NW):\n",
    "            shift_aux[(x + aux_d[d])%NW,x] = 1\n",
    "            \n",
    "        \n",
    "        S += np.kron(shift_aux, coin_aux)\n",
    "    \n",
    "    return S\n",
    "\n",
    "def initial_cond(coin,nw,nc):\n",
    "    i_aux  = np.zeros([nw,1],dtype='complex')\n",
    "    i_aux[nw//2,0] = 1\n",
    "    \n",
    "    i_coin = np.zeros([nc,1],dtype='complex')\n",
    "    for x in range(nc):\n",
    "        i_coin[x,0] = coin[x]\n",
    "        \n",
    "    return np.kron(i_aux,i_coin)\n",
    "  \n",
    "def evolution(U,steps,initial,nw,nc):\n",
    "    \n",
    "    for t in range(steps):\n",
    "        initial = U@initial\n",
    "      \n",
    "    final = np.zeros([nw,1])\n",
    "    for x in range(nw):\n",
    "        final[x] = np.sum(np.abs(initial[x*nc:(x*nc+nc),0])**2)\n",
    "    \n",
    "    return final"
   ]
  },
  {
   "cell_type": "code",
   "execution_count": 129,
   "id": "4a746a05",
   "metadata": {},
   "outputs": [
    {
     "data": {
      "text/plain": [
       "[<matplotlib.lines.Line2D at 0x165d8b190>]"
      ]
     },
     "execution_count": 129,
     "metadata": {},
     "output_type": "execute_result"
    },
    {
     "data": {
      "image/png": "[encoded data removed]",
      "text/plain": [
       "<Figure size 432x288 with 1 Axes>"
      ]
     },
     "metadata": {
      "needs_background": "light"
     },
     "output_type": "display_data"
    }
   ],
   "source": [
    "nw = 220\n",
    "nc = 3\n",
    "steps = 100\n",
    "\n",
    "initial = initial_cond([1j,0,1]/np.sqrt(2),nw,nc)\n",
    "\n",
    "C = coin_op(nw,nc)\n",
    "S = shift_op_cycle(nw,nc)\n",
    "\n",
    "probs = evolution(S@C,steps,initial,nw,nc)\n",
    "plt.plot(probs)"
   ]
  },
  {
   "cell_type": "code",
   "execution_count": 126,
   "id": "b23c8f11",
   "metadata": {},
   "outputs": [
    {
     "data": {
      "text/plain": [
       "array([-2, -1,  0,  1,  2])"
      ]
     },
     "execution_count": 126,
     "metadata": {},
     "output_type": "execute_result"
    }
   ],
   "source": [
    "d = 5\n",
    "np.arange(-(d-1)/2,(d-1)/2+1,dtype='int')"
   ]
  },
  {
   "cell_type": "code",
   "execution_count": null,
   "id": "23fd8978",
   "metadata": {},
   "outputs": [],
   "source": []
  }
 ],
 "metadata": {
  "kernelspec": {
   "display_name": "Python 3 (ipykernel)",
   "language": "python",
   "name": "python3"
  },
  "language_info": {
   "codemirror_mode": {
    "name": "ipython",
    "version": 3
   },
   "file_extension": ".py",
   "mimetype": "text/x-python",
   "name": "python",
   "nbconvert_exporter": "python",
   "pygments_lexer": "ipython3",
   "version": "3.9.8"
  }
 },
 "nbformat": 4,
 "nbformat_minor": 5
}
