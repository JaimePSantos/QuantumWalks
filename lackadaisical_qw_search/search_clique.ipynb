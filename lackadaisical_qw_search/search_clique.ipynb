{
 "cells": [
  {
   "cell_type": "markdown",
   "id": "198d4cc7",
   "metadata": {},
   "source": [
    "#### Search by Lackadaisical Quantum Walk with Symmetry Breaking\n",
    "\n",
    "https://arxiv.org/abs/2108.13856"
   ]
  },
  {
   "cell_type": "code",
   "execution_count": 66,
   "id": "37346df9",
   "metadata": {},
   "outputs": [],
   "source": [
    "import numpy as np\n",
    "import networkx as nx\n",
    "import matplotlib.pyplot as plt\n",
    "import time\n",
    "from scipy import sparse"
   ]
  },
  {
   "cell_type": "code",
   "execution_count": 58,
   "id": "b04520a3",
   "metadata": {},
   "outputs": [],
   "source": [
    "def initial_condition_clique(NW, NC, weights):\n",
    "    \n",
    "    state = np.zeros([NW*NC,1])\n",
    "    \n",
    "    for ii in range(NW):\n",
    "        \n",
    "        aux_vector = np.zeros([NW,1])\n",
    "        aux_vector[ii] = 1\n",
    "        \n",
    "        state += np.kron(aux_vector/np.sqrt(NW), np.sqrt(weights[ii])*aux_vector/np.sqrt(NW + weights[ii] - 1))\n",
    "        for jj in set(range(NC)) - set([ii]):\n",
    "            aux_aux_vector = np.zeros([NC,1])\n",
    "            aux_aux_vector[jj] = 1\n",
    "            \n",
    "            state += np.kron(aux_vector/np.sqrt(NW), aux_aux_vector/np.sqrt(NW + weights[ii] - 1))\n",
    "            \n",
    "    return state\n",
    "\n",
    "def oracle_op(NW, NC, marked):\n",
    "    O = np.eye(NW)\n",
    "    O[marked,marked] = -1\n",
    "    \n",
    "    return np.kron(O, np.eye(NC))\n",
    "\n",
    "def diffusion_op(NW,NC,weights):\n",
    "    C = np.zeros([NW*NC,NW*NC])\n",
    "    for ii in range(NW):\n",
    "        si = np.ones([NW,1])/np.sqrt(NW + weights[ii] - 1)\n",
    "        si[ii] = weights[ii]*si[ii]\n",
    "\n",
    "#         C_aux = np.zeros([NW,NW])\n",
    "#         C_aux[ii,ii] = 1\n",
    "        \n",
    "        C[ii*NC:(ii+1)*NC,ii*NC:(ii+1)*NC] = 2*si@(si.T) - np.eye(NC)\n",
    "        \n",
    "#         C += np.kron(C_aux, 2*si@(si.T) - np.eye(NC))\n",
    "        \n",
    "    return C\n",
    "\n",
    "\n",
    "def ket2pos(positions,NW,NC):\n",
    "    p = positions[1]*NC + positions[0]\n",
    "    return p\n",
    "\n",
    "def shift_op(NW,NC):\n",
    "\n",
    "    S = np.zeros([NW*NC,NW*NC])\n",
    "    for u in range(NW):\n",
    "        for v in range(NC):\n",
    "\n",
    "            S[ket2pos([u,v],NW,NC), ket2pos([v,u],NW,NC)] = 1\n",
    "            \n",
    "    return S\n",
    "\n",
    "\n",
    "\n",
    "def searching_evolution(U, steps, initial, marked, NC):\n",
    "    final = np.zeros(steps)\n",
    "    \n",
    "    for t in range(steps):\n",
    "        initial = U@initial\n",
    "        \n",
    "        for m in marked:\n",
    "            final[t]+=np.sum(np.abs(initial[m*NC:(m+1)*NC])**2)\n",
    "            \n",
    "            \n",
    "    return final"
   ]
  },
  {
   "cell_type": "code",
   "execution_count": 82,
   "id": "953a40bf",
   "metadata": {},
   "outputs": [
    {
     "name": "stdout",
     "output_type": "stream",
     "text": [
      "2.698834180831909\n",
      "31.571879148483276\n"
     ]
    }
   ],
   "source": [
    "start = time.time()\n",
    "NW = 100\n",
    "NC = NW\n",
    "w = [0]*NW\n",
    "marked = [0]\n",
    "steps = 20\n",
    "\n",
    "i_state = initial_condition_clique(NW, NC, w)\n",
    "\n",
    "Q = oracle_op(NW,NC,marked)\n",
    "\n",
    "\n",
    "C = diffusion_op(NW,NC,w)\n",
    "end = time.time()\n",
    "print(end - start)\n",
    "\n",
    "S = shift_op(NW,NC)\n",
    "\n",
    "\n",
    "prob = searching_evolution(S@C@Q, steps, i_state, marked, NC)\n",
    "end = time.time()\n",
    "print(end - start)"
   ]
  },
  {
   "cell_type": "code",
   "execution_count": 83,
   "id": "b9ebea6e",
   "metadata": {},
   "outputs": [
    {
     "data": {
      "text/plain": [
       "[<matplotlib.lines.Line2D at 0x16b3b48e0>]"
      ]
     },
     "execution_count": 83,
     "metadata": {},
     "output_type": "execute_result"
    },
    {
     "data": {
      "image/png": "[encoded data removed]",
      "text/plain": [
       "<Figure size 432x288 with 1 Axes>"
      ]
     },
     "metadata": {
      "needs_background": "light"
     },
     "output_type": "display_data"
    }
   ],
   "source": [
    "plt.plot(prob)"
   ]
  }
 ],
 "metadata": {
  "kernelspec": {
   "display_name": "Python 3 (ipykernel)",
   "language": "python",
   "name": "python3"
  },
  "language_info": {
   "codemirror_mode": {
    "name": "ipython",
    "version": 3
   },
   "file_extension": ".py",
   "mimetype": "text/x-python",
   "name": "python",
   "nbconvert_exporter": "python",
   "pygments_lexer": "ipython3",
   "version": "3.9.8"
  }
 },
 "nbformat": 4,
 "nbformat_minor": 5
}
