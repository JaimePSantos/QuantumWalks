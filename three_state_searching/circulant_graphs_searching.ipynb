{
 "cells": [
  {
   "cell_type": "code",
   "execution_count": 3,
   "id": "6a11c1cf",
   "metadata": {},
   "outputs": [],
   "source": [
    "import numpy as np\n",
    "import matplotlib.pyplot as plt\n",
    "import networkx as nx"
   ]
  },
  {
   "cell_type": "code",
   "execution_count": 85,
   "id": "8a7c920d",
   "metadata": {},
   "outputs": [],
   "source": [
    "def coin_op(NW, NC):\n",
    "    II = np.eye(NW,dtype='complex')\n",
    "    C  = 2*np.ones((NC, NC))/NC - np.eye(NC)\n",
    "    \n",
    "    return np.kron(C,II)\n",
    "\n",
    "def shift_op_cycle(NW,NC):\n",
    "    S = np.zeros([NC*NW,NC*NW],dtype='complex')\n",
    "    \n",
    "    aux_d = np.arange(-(NC-1)/2,(NC-1)/2+1,dtype='int')    \n",
    "    for d in range(NC):\n",
    "        coin_aux = np.zeros([NC,NC],dtype='complex')\n",
    "        coin_aux[d,d] = 1\n",
    "        \n",
    "        shift_aux = np.zeros([NW,NW],dtype='complex')\n",
    "        for x in range(NW):\n",
    "            shift_aux[(x + aux_d[d])%NW,x] = 1\n",
    "            \n",
    "        \n",
    "        S += np.kron(coin_aux,shift_aux)\n",
    "    \n",
    "    return S\n",
    "\n",
    "def initial_cond(coin,nw,nc):\n",
    "    i_aux  = np.zeros([nw,1],dtype='complex')\n",
    "    i_aux[nw//2,0] = 1\n",
    "    \n",
    "    i_coin = np.zeros([nc,1],dtype='complex')\n",
    "    for x in range(nc):\n",
    "        i_coin[x,0] = coin[x]\n",
    "        \n",
    "    return np.kron(i_coin,i_aux)\n",
    "\n",
    "def superposition(nw,nc):\n",
    "    state = np.ones([nw,1])/np.sqrt(nw)\n",
    "    coin_state = np.ones([nc,1])/np.sqrt(nc)\n",
    "#     coin_state[0] = 1\n",
    "    \n",
    "    return np.kron(state,coin_state)\n",
    "\n",
    "def oracle_op(nw,nc, marked):\n",
    "    O = np.matrix(np.eye(nw))\n",
    "    O[marked,marked] = -1\n",
    "    \n",
    "    \n",
    "    return np.kron(np.eye(nc),O)\n",
    "    \n",
    "def evolution(U,steps,initial,nw,nc):\n",
    "    \n",
    "    for t in range(steps):\n",
    "        initial = U@initial\n",
    "      \n",
    "    final = np.zeros([nw,1])\n",
    "    for x in range(nw):\n",
    "        for c in range(nc):\n",
    "            final[x] = np.sum(np.abs(initial[c*nc + x,0])**2)\n",
    "    \n",
    "    return final"
   ]
  },
  {
   "cell_type": "code",
   "execution_count": 93,
   "id": "324d334b",
   "metadata": {},
   "outputs": [
    {
     "data": {
      "image/png": "[encoded data removed]",
      "text/plain": [
       "<Figure size 432x288 with 1 Axes>"
      ]
     },
     "metadata": {
      "needs_background": "light"
     },
     "output_type": "display_data"
    }
   ],
   "source": [
    "nw = 10\n",
    "nc = 10\n",
    "steps = 7\n",
    "marked = [0]\n",
    "\n",
    "initial = superposition(nw,nc)\n",
    "C = coin_op(nw,nc)\n",
    "S = shift_op_cycle(nw,nc)\n",
    "O = np.array(oracle_op(nw,nc, marked))\n",
    "\n",
    "probs = evolution(S@C@O,steps,initial,nw,nc)\n",
    "plt.plot(probs)\n",
    "plt.show()"
   ]
  },
  {
   "cell_type": "code",
   "execution_count": null,
   "id": "5c2f9bf0",
   "metadata": {},
   "outputs": [],
   "source": []
  },
  {
   "cell_type": "code",
   "execution_count": 41,
   "id": "395f0273",
   "metadata": {},
   "outputs": [
    {
     "data": {
      "text/plain": [
       "30"
      ]
     },
     "execution_count": 41,
     "metadata": {},
     "output_type": "execute_result"
    }
   ],
   "source": [
    "len(initial)"
   ]
  },
  {
   "cell_type": "code",
   "execution_count": null,
   "id": "a7773184",
   "metadata": {},
   "outputs": [],
   "source": []
  }
 ],
 "metadata": {
  "kernelspec": {
   "display_name": "Python 3 (ipykernel)",
   "language": "python",
   "name": "python3"
  },
  "language_info": {
   "codemirror_mode": {
    "name": "ipython",
    "version": 3
   },
   "file_extension": ".py",
   "mimetype": "text/x-python",
   "name": "python",
   "nbconvert_exporter": "python",
   "pygments_lexer": "ipython3",
   "version": "3.9.8"
  }
 },
 "nbformat": 4,
 "nbformat_minor": 5
}
